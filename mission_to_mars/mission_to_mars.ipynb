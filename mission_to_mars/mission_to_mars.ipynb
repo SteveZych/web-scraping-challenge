{
 "cells": [
  {
   "cell_type": "code",
   "execution_count": 1,
   "metadata": {},
   "outputs": [],
   "source": [
    "from splinter import Browser\n",
    "from bs4 import BeautifulSoup as bs\n",
    "import time\n",
    "from webdriver_manager.chrome import ChromeDriverManager\n",
    "import requests\n",
    "import pymongo\n",
    "import pandas as pd"
   ]
  },
  {
   "cell_type": "code",
   "execution_count": null,
   "metadata": {},
   "outputs": [],
   "source": []
  },
  {
   "cell_type": "code",
   "execution_count": 2,
   "metadata": {},
   "outputs": [],
   "source": [
    "# Initialize PyMongo\n",
    "conn = 'mongodb://localhost:27017'\n",
    "client = pymongo.MongoClient(conn)"
   ]
  },
  {
   "cell_type": "code",
   "execution_count": 3,
   "metadata": {},
   "outputs": [],
   "source": [
    "# Define database and collection\n",
    "db = client.mars_db\n",
    "collection = db.items"
   ]
  },
  {
   "cell_type": "code",
   "execution_count": 40,
   "metadata": {},
   "outputs": [],
   "source": []
  },
  {
   "cell_type": "code",
   "execution_count": 47,
   "metadata": {},
   "outputs": [
    {
     "name": "stderr",
     "output_type": "stream",
     "text": [
      "\n",
      "\n",
      "====== WebDriver manager ======\n",
      "Current google-chrome version is 91.0.4472\n",
      "Get LATEST driver version for 91.0.4472\n",
      "Driver [/Users/stevenzych/.wdm/drivers/chromedriver/mac64/91.0.4472.19/chromedriver] found in cache\n"
     ]
    }
   ],
   "source": [
    "# Set up splinter for article title and paragraph\n",
    "executable_path = {'executable_path': ChromeDriverManager().install()}\n",
    "browser = Browser('chrome', **executable_path, headless=False)"
   ]
  },
  {
   "cell_type": "code",
   "execution_count": 48,
   "metadata": {},
   "outputs": [],
   "source": [
    "# Uses splinter to interact with the html page for Mars news\n",
    "url = \"https://mars.nasa.gov/news/?page=0&per_page=40&order=publish_date+desc%2Ccreated_at+desc&search=&category=19%2C165%2C184%2C204&blank_scope=Latest\"\n",
    "browser.visit(url)\n",
    "\n",
    "html = browser.html\n",
    "soup = bs(html, 'html.parser')\n",
    "\n",
    "#List to hold Mars news title and paragraph\n",
    "marsNews = []\n",
    "\n",
    "#div for articles\n",
    "newsContent = soup.find_all('div', class_='list_text')\n",
    "\n",
    "#Find title and paragraph, store in dictionary, append dictionary to news list\n",
    "for news in newsContent:\n",
    "    title_paragraph = {}\n",
    "    newsTitle = news.find('div', class_='content_title').text\n",
    "    newsParagraph = news.find('div', class_='article_teaser_body').text\n",
    "    \n",
    "    title_paragraph[\"Title\"] = newsTitle\n",
    "    title_paragraph[\"Paragraph\"] = newsParagraph\n",
    "    \n",
    "    marsNews.append(title_paragraph)\n"
   ]
  },
  {
   "cell_type": "code",
   "execution_count": 49,
   "metadata": {},
   "outputs": [
    {
     "data": {
      "text/plain": [
       "[{'Title': \"NASA's InSight Mars Lander Gets a Power Boost\",\n",
       "  'Paragraph': 'The spacecraft successfully cleared some dust off its solar panels, helping to raise its energy and delay when it will need to switch off its science instruments.'},\n",
       " {'Title': \"NASA's Curiosity Rover Captures Shining Clouds on Mars\",\n",
       "  'Paragraph': 'The science team is studying the clouds, which arrived earlier and formed higher than expected, to learn more about the Red Planet. '},\n",
       " {'Title': 'Life Goals: NASA Software Unlocks Martian Rover Productivity',\n",
       "  'Paragraph': 'Productivity pundits know lots of tricks to make the most of your day, so you can schedule enough time for important tasks while guarding against overload.'},\n",
       " {'Title': 'Salts Could Be Important Piece of Martian Organic Puzzle',\n",
       "  'Paragraph': \"A NASA team has found that organic, or carbon-containing, salts are likely present on Mars, with implications for the Red Planet's past habitability.\"},\n",
       " {'Title': \"Seeing NASA's Ingenuity Mars Helicopter Fly in 3D\",\n",
       "  'Paragraph': 'A new video of the helicopter’s third flight gives viewers the sensation of standing on the Red Planet and seeing the action firsthand.'},\n",
       " {'Title': \"Perseverance's Robotic Arm Starts Conducting Science\",\n",
       "  'Paragraph': 'NASA’s newest Mars rover is beginning to study the floor of an ancient crater that once held a lake.'},\n",
       " {'Title': \"NASA's Ingenuity Mars Helicopter Completes First One-Way Trip  \",\n",
       "  'Paragraph': 'The Red Planet rotorcraft headed south in support of furthering research into the potential use of aerial scouts on Mars in the future.'},\n",
       " {'Title': \"NASA's Perseverance Captures Video, Audio of Fourth Ingenuity Flight\",\n",
       "  'Paragraph': 'Sounds of the Mars Helicopter’s whirring rotors add another new dimension to the historic project.'},\n",
       " {'Title': \"NASA's Ingenuity Helicopter to Begin New Demonstration Phase\",\n",
       "  'Paragraph': 'The Red Planet rotorcraft will shift focus from proving flight is possible on Mars to demonstrating flight operations that future aerial craft could utilize.'},\n",
       " {'Title': 'NASA Sets Briefing to Discuss Ingenuity Mars Helicopter Next Steps',\n",
       "  'Paragraph': 'With three successful flights in the logbook, Ingenuity has demonstrated it is ready for more.\\n\\n'},\n",
       " {'Title': 'With Goals Met, NASA to Push Envelope With Ingenuity Mars Helicopter',\n",
       "  'Paragraph': 'With three successful flights in the logbook, Ingenuity has demonstrated it is ready for more.'},\n",
       " {'Title': \"NASA's Ingenuity Mars Helicopter Flies Faster, Farther on Third Flight\",\n",
       "  'Paragraph': 'The craft’s April 25 flight was conducted at speeds and distances beyond what had ever been previously demonstrated, even in testing on Earth.'},\n",
       " {'Title': \"NASA's Ingenuity Mars Helicopter Logs Second Successful Flight\",\n",
       "  'Paragraph': 'The small rotorcraft’s horizons were expanded on its second flight. '},\n",
       " {'Title': \"NASA's Perseverance Mars Rover Extracts First Oxygen From Red Planet\",\n",
       "  'Paragraph': 'The milestone, which the MOXIE instrument achieved by converting carbon dioxide into oxygen, points the way to future human exploration of the Red Planet. '},\n",
       " {'Title': \"NASA's Ingenuity Mars Helicopter Succeeds in Historic First Flight\",\n",
       "  'Paragraph': 'The small rotorcraft made history, hovering above Jezero Crater, demonstrating that powered, controlled flight on another planet is possible.'},\n",
       " {'Title': 'NASA to Attempt First Controlled Flight on Mars As Soon As Monday',\n",
       "  'Paragraph': 'A livestream will begin at 3:15 a.m. PDT that morning as the helicopter team prepares to receive the data downlink at NASA’s Jet Propulsion Laboratory.'},\n",
       " {'Title': \"NASA's Mars Helicopter to Make First Flight Attempt\",\n",
       "  'Paragraph': 'The small rotorcraft’s “Wright brothers moment” is two Mars days away.'},\n",
       " {'Title': 'Webinars--Taking Flight: How Girls Can Grow up to Be Engineers ',\n",
       "  'Paragraph': 'Do you like solving problems, working with other people, and making a difference? Consider a career in engineering!'},\n",
       " {'Title': \"Say Cheese on Mars: Perseverance's Selfie With Ingenuity\",\n",
       "  'Paragraph': 'NASA’s newest Mars rover used a camera on the end of its robotic arm to snap this shot of itself with the Ingenuity helicopter nearby.'},\n",
       " {'Title': \"NASA's Odyssey Orbiter Marks 20 Historic Years of Mapping Mars \",\n",
       "  'Paragraph': 'For two decades, the longest-lived spacecraft at the Red Planet has helped locate water ice, assess landing sites, and study the planet’s mysterious moons.\\n'},\n",
       " {'Title': 'NASA Invites Public to Take Flight With Ingenuity Mars Helicopter ',\n",
       "  'Paragraph': 'The helicopter is scheduled to lift off close to the end of the day on April 11.'},\n",
       " {'Title': \"NASA's First Weather Report From Jezero Crater on Mars\",\n",
       "  'Paragraph': 'Perseverance’s MEDA will help us understand how to prepare astronauts for a future on the Red Planet.'},\n",
       " {'Title': \"NASA's Curiosity Team Names Martian Hill That Serves as Mission ‘Gateway'\",\n",
       "  'Paragraph': 'The name honors recently deceased mission scientist Rafael Navarro-González, who helped lead the team that identified ancient organic compounds on Mars'},\n",
       " {'Title': \"NASA's Mars Helicopter Survives First Cold Martian Night on Its Own\",\n",
       "  'Paragraph': 'NASA’s Ingenuity helicopter can be seen on Mars as viewed by the Perseverance rover’s rear Hazard Camera on April 4, 2021, the 44th Martian day, or sol of the mission.'},\n",
       " {'Title': \"NASA's InSight Detects Two Sizable Quakes on Mars\",\n",
       "  'Paragraph': 'The magnitude 3.3 and 3.1 temblors originated in a region called Cerberus Fossae, further supporting the idea that this location is seismically active.'},\n",
       " {'Title': 'Sensors Collect Crucial Data on Mars Landings With Arrival of Perseverance ',\n",
       "  'Paragraph': 'MEDLI2 was one of the crucial technologies onboard the rover’s protective aeroshell that helped document the entry, descent, and landing of the spacecraft. '},\n",
       " {'Title': \"NASA's Curiosity Mars Rover Takes Selfie With 'Mont Mercou'\",\n",
       "  'Paragraph': 'The rover also snapped a pair of panoramas to create a 3D view of the stark cliff face featured in the selfie.'},\n",
       " {'Title': 'NASA Ingenuity Mars Helicopter Prepares for First Flight',\n",
       "  'Paragraph': 'Now uncocooned from its protective carbon-fiber shield, the helicopter is being readied for its next steps.  '},\n",
       " {'Title': 'Another First: Perseverance Captures the Sounds of Driving on Mars',\n",
       "  'Paragraph': 'NASA’s newest rover recorded audio of itself crunching over the surface of the Red Planet, adding a whole new dimension to Mars exploration.'},\n",
       " {'Title': 'NASA to Host Briefing to Preview First Mars Helicopter Flights',\n",
       "  'Paragraph': 'Members of the projects will lay out the steps necessary before the helicopter attempts its historic test flights. '},\n",
       " {'Title': \"New Study Challenges Long-Held Theory of Fate of Mars' Water\",\n",
       "  'Paragraph': 'The new science results indicate that a large quantity of the Red Planet’s water is trapped in its crust rather than having escaped into space.'},\n",
       " {'Title': \"NASA's Perseverance Mars Rover Mission Honors Navajo Language\",\n",
       "  'Paragraph': 'Working with the Navajo Nation, the rover team has named features on Mars with words from the Navajo language.'},\n",
       " {'Title': \"Perseverance Rover's SuperCam Science Instrument Delivers First Results\",\n",
       "  'Paragraph': 'Data from the powerful science tool includes sounds of its laser zapping a rock in order to test what it’s made of.'},\n",
       " {'Title': \"NASA's Perseverance Drives on Mars' Terrain for First Time\",\n",
       "  'Paragraph': 'The first trek of the agency’s largest, most advanced rover yet on the Red Planet marks a major milestone before science operations get under way.'},\n",
       " {'Title': 'Media Telecon Materials - March 5, 2021',\n",
       "  'Paragraph': 'Mission team members are participating in a virtual teleconference to discuss milestones achieved so far since the Feb. 18 landing and those to come.'},\n",
       " {'Title': 'NASA Awards Mars Ascent Propulsion System Contract for Sample Return',\n",
       "  'Paragraph': 'The award moves NASA and ESA a step closer to realizing Mars Sample Return, an ambitious planetary exploration program that will build upon decades of science, knowledge, and experience.'},\n",
       " {'Title': \"NASA to Provide Update on Perseverance ‘Firsts' Since Mars Landing \",\n",
       "  'Paragraph': 'Mission team members are participating in a virtual teleconference to discuss milestones achieved so far since the Feb. 18 landing and those to come.'},\n",
       " {'Title': 'Testing Proves Its Worth With Successful Mars Parachute Deployment',\n",
       "  'Paragraph': 'The giant canopy that helped land Perseverance on Mars was tested here on Earth at NASA’s Wallops Flight Facility in Virginia.'},\n",
       " {'Title': \"NASA's Perseverance Rover Gives High-Definition Panoramic View of Landing Site\",\n",
       "  'Paragraph': 'A 360-degree panorama taken by the rover’s Mastcam-Z instrument will be discussed during a public video chat this Thursday.'},\n",
       " {'Title': 'Nearly 11 Million Names of Earthlings are on Mars Perseverance',\n",
       "  'Paragraph': 'When the Perseverance rover safely touched down on the Martian surface, inside Jezero Crater, on Feb. 18, 2021, it was also a safe landing for the nearly 11 million names on board.'}]"
      ]
     },
     "execution_count": 49,
     "metadata": {},
     "output_type": "execute_result"
    }
   ],
   "source": [
    "marsNews"
   ]
  },
  {
   "cell_type": "code",
   "execution_count": 50,
   "metadata": {},
   "outputs": [],
   "source": [
    "browser.quit()"
   ]
  },
  {
   "cell_type": "code",
   "execution_count": null,
   "metadata": {},
   "outputs": [],
   "source": []
  },
  {
   "cell_type": "code",
   "execution_count": 8,
   "metadata": {},
   "outputs": [
    {
     "name": "stderr",
     "output_type": "stream",
     "text": [
      "\n",
      "\n",
      "====== WebDriver manager ======\n",
      "Current google-chrome version is 91.0.4472\n",
      "Get LATEST driver version for 91.0.4472\n",
      "Driver [/Users/stevenzych/.wdm/drivers/chromedriver/mac64/91.0.4472.19/chromedriver] found in cache\n"
     ]
    }
   ],
   "source": [
    "# Set up splinter to find Mars images\n",
    "executable_path = {'executable_path': ChromeDriverManager().install()}\n",
    "browser = Browser('chrome', **executable_path, headless=False)"
   ]
  },
  {
   "cell_type": "code",
   "execution_count": 9,
   "metadata": {},
   "outputs": [],
   "source": [
    "# Find featured Mars image url\n",
    "url = 'https://data-class-jpl-space.s3.amazonaws.com/JPL_Space/index.html'\n",
    "browser.visit(url)"
   ]
  },
  {
   "cell_type": "code",
   "execution_count": 10,
   "metadata": {},
   "outputs": [],
   "source": [
    "full_image_elem = browser.find_by_css('a.showimg').first\n",
    "full_image_elem.click()"
   ]
  },
  {
   "cell_type": "code",
   "execution_count": 15,
   "metadata": {},
   "outputs": [],
   "source": [
    "img = browser.find_by_tag('img')"
   ]
  },
  {
   "cell_type": "code",
   "execution_count": 16,
   "metadata": {},
   "outputs": [],
   "source": [
    "featured_img_url = img['src']"
   ]
  },
  {
   "cell_type": "code",
   "execution_count": 17,
   "metadata": {},
   "outputs": [
    {
     "data": {
      "text/plain": [
       "'https://data-class-jpl-space.s3.amazonaws.com/JPL_Space/image/nasa.png'"
      ]
     },
     "execution_count": 17,
     "metadata": {},
     "output_type": "execute_result"
    }
   ],
   "source": [
    "featured_img_url"
   ]
  },
  {
   "cell_type": "code",
   "execution_count": 18,
   "metadata": {},
   "outputs": [],
   "source": [
    "browser.quit()"
   ]
  },
  {
   "cell_type": "code",
   "execution_count": null,
   "metadata": {},
   "outputs": [],
   "source": []
  },
  {
   "cell_type": "code",
   "execution_count": 19,
   "metadata": {},
   "outputs": [
    {
     "data": {
      "text/html": [
       "<div>\n",
       "<style scoped>\n",
       "    .dataframe tbody tr th:only-of-type {\n",
       "        vertical-align: middle;\n",
       "    }\n",
       "\n",
       "    .dataframe tbody tr th {\n",
       "        vertical-align: top;\n",
       "    }\n",
       "\n",
       "    .dataframe thead th {\n",
       "        text-align: right;\n",
       "    }\n",
       "</style>\n",
       "<table border=\"1\" class=\"dataframe\">\n",
       "  <thead>\n",
       "    <tr style=\"text-align: right;\">\n",
       "      <th></th>\n",
       "      <th>0</th>\n",
       "      <th>1</th>\n",
       "    </tr>\n",
       "  </thead>\n",
       "  <tbody>\n",
       "    <tr>\n",
       "      <th>0</th>\n",
       "      <td>Equatorial Diameter:</td>\n",
       "      <td>6,792 km</td>\n",
       "    </tr>\n",
       "    <tr>\n",
       "      <th>1</th>\n",
       "      <td>Polar Diameter:</td>\n",
       "      <td>6,752 km</td>\n",
       "    </tr>\n",
       "    <tr>\n",
       "      <th>2</th>\n",
       "      <td>Mass:</td>\n",
       "      <td>6.39 × 10^23 kg (0.11 Earths)</td>\n",
       "    </tr>\n",
       "    <tr>\n",
       "      <th>3</th>\n",
       "      <td>Moons:</td>\n",
       "      <td>2 (Phobos &amp; Deimos)</td>\n",
       "    </tr>\n",
       "    <tr>\n",
       "      <th>4</th>\n",
       "      <td>Orbit Distance:</td>\n",
       "      <td>227,943,824 km (1.38 AU)</td>\n",
       "    </tr>\n",
       "    <tr>\n",
       "      <th>5</th>\n",
       "      <td>Orbit Period:</td>\n",
       "      <td>687 days (1.9 years)</td>\n",
       "    </tr>\n",
       "    <tr>\n",
       "      <th>6</th>\n",
       "      <td>Surface Temperature:</td>\n",
       "      <td>-87 to -5 °C</td>\n",
       "    </tr>\n",
       "    <tr>\n",
       "      <th>7</th>\n",
       "      <td>First Record:</td>\n",
       "      <td>2nd millennium BC</td>\n",
       "    </tr>\n",
       "    <tr>\n",
       "      <th>8</th>\n",
       "      <td>Recorded By:</td>\n",
       "      <td>Egyptian astronomers</td>\n",
       "    </tr>\n",
       "  </tbody>\n",
       "</table>\n",
       "</div>"
      ],
      "text/plain": [
       "                      0                              1\n",
       "0  Equatorial Diameter:                       6,792 km\n",
       "1       Polar Diameter:                       6,752 km\n",
       "2                 Mass:  6.39 × 10^23 kg (0.11 Earths)\n",
       "3                Moons:            2 (Phobos & Deimos)\n",
       "4       Orbit Distance:       227,943,824 km (1.38 AU)\n",
       "5         Orbit Period:           687 days (1.9 years)\n",
       "6  Surface Temperature:                   -87 to -5 °C\n",
       "7         First Record:              2nd millennium BC\n",
       "8          Recorded By:           Egyptian astronomers"
      ]
     },
     "execution_count": 19,
     "metadata": {},
     "output_type": "execute_result"
    }
   ],
   "source": [
    "#Scrape for mars information using pandas\n",
    "marsTable = pd.read_html('https://space-facts.com/mars/')[0]\n",
    "marsTable"
   ]
  },
  {
   "cell_type": "code",
   "execution_count": 20,
   "metadata": {},
   "outputs": [
    {
     "data": {
      "text/html": [
       "<div>\n",
       "<style scoped>\n",
       "    .dataframe tbody tr th:only-of-type {\n",
       "        vertical-align: middle;\n",
       "    }\n",
       "\n",
       "    .dataframe tbody tr th {\n",
       "        vertical-align: top;\n",
       "    }\n",
       "\n",
       "    .dataframe thead th {\n",
       "        text-align: right;\n",
       "    }\n",
       "</style>\n",
       "<table border=\"1\" class=\"dataframe\">\n",
       "  <thead>\n",
       "    <tr style=\"text-align: right;\">\n",
       "      <th></th>\n",
       "      <th>Mars</th>\n",
       "    </tr>\n",
       "    <tr>\n",
       "      <th>Description</th>\n",
       "      <th></th>\n",
       "    </tr>\n",
       "  </thead>\n",
       "  <tbody>\n",
       "    <tr>\n",
       "      <th>Equatorial Diameter:</th>\n",
       "      <td>6,792 km</td>\n",
       "    </tr>\n",
       "    <tr>\n",
       "      <th>Polar Diameter:</th>\n",
       "      <td>6,752 km</td>\n",
       "    </tr>\n",
       "    <tr>\n",
       "      <th>Mass:</th>\n",
       "      <td>6.39 × 10^23 kg (0.11 Earths)</td>\n",
       "    </tr>\n",
       "    <tr>\n",
       "      <th>Moons:</th>\n",
       "      <td>2 (Phobos &amp; Deimos)</td>\n",
       "    </tr>\n",
       "    <tr>\n",
       "      <th>Orbit Distance:</th>\n",
       "      <td>227,943,824 km (1.38 AU)</td>\n",
       "    </tr>\n",
       "    <tr>\n",
       "      <th>Orbit Period:</th>\n",
       "      <td>687 days (1.9 years)</td>\n",
       "    </tr>\n",
       "    <tr>\n",
       "      <th>Surface Temperature:</th>\n",
       "      <td>-87 to -5 °C</td>\n",
       "    </tr>\n",
       "    <tr>\n",
       "      <th>First Record:</th>\n",
       "      <td>2nd millennium BC</td>\n",
       "    </tr>\n",
       "    <tr>\n",
       "      <th>Recorded By:</th>\n",
       "      <td>Egyptian astronomers</td>\n",
       "    </tr>\n",
       "  </tbody>\n",
       "</table>\n",
       "</div>"
      ],
      "text/plain": [
       "                                               Mars\n",
       "Description                                        \n",
       "Equatorial Diameter:                       6,792 km\n",
       "Polar Diameter:                            6,752 km\n",
       "Mass:                 6.39 × 10^23 kg (0.11 Earths)\n",
       "Moons:                          2 (Phobos & Deimos)\n",
       "Orbit Distance:            227,943,824 km (1.38 AU)\n",
       "Orbit Period:                  687 days (1.9 years)\n",
       "Surface Temperature:                   -87 to -5 °C\n",
       "First Record:                     2nd millennium BC\n",
       "Recorded By:                   Egyptian astronomers"
      ]
     },
     "execution_count": 20,
     "metadata": {},
     "output_type": "execute_result"
    }
   ],
   "source": [
    "marsTable.columns = [\"Description\", \"Mars\"]\n",
    "marsTable.set_index(\"Description\", inplace=True)\n",
    "marsTable"
   ]
  },
  {
   "cell_type": "code",
   "execution_count": 21,
   "metadata": {},
   "outputs": [
    {
     "data": {
      "text/plain": [
       "'<table border=\"1\" class=\"dataframe\">\\n  <thead>\\n    <tr style=\"text-align: right;\">\\n      <th></th>\\n      <th>Mars</th>\\n    </tr>\\n    <tr>\\n      <th>Description</th>\\n      <th></th>\\n    </tr>\\n  </thead>\\n  <tbody>\\n    <tr>\\n      <th>Equatorial Diameter:</th>\\n      <td>6,792 km</td>\\n    </tr>\\n    <tr>\\n      <th>Polar Diameter:</th>\\n      <td>6,752 km</td>\\n    </tr>\\n    <tr>\\n      <th>Mass:</th>\\n      <td>6.39 × 10^23 kg (0.11 Earths)</td>\\n    </tr>\\n    <tr>\\n      <th>Moons:</th>\\n      <td>2 (Phobos &amp; Deimos)</td>\\n    </tr>\\n    <tr>\\n      <th>Orbit Distance:</th>\\n      <td>227,943,824 km (1.38 AU)</td>\\n    </tr>\\n    <tr>\\n      <th>Orbit Period:</th>\\n      <td>687 days (1.9 years)</td>\\n    </tr>\\n    <tr>\\n      <th>Surface Temperature:</th>\\n      <td>-87 to -5 °C</td>\\n    </tr>\\n    <tr>\\n      <th>First Record:</th>\\n      <td>2nd millennium BC</td>\\n    </tr>\\n    <tr>\\n      <th>Recorded By:</th>\\n      <td>Egyptian astronomers</td>\\n    </tr>\\n  </tbody>\\n</table>'"
      ]
     },
     "execution_count": 21,
     "metadata": {},
     "output_type": "execute_result"
    }
   ],
   "source": [
    "marsTableHTML = marsTable.to_html()"
   ]
  },
  {
   "cell_type": "code",
   "execution_count": null,
   "metadata": {},
   "outputs": [],
   "source": []
  },
  {
   "cell_type": "code",
   "execution_count": 22,
   "metadata": {
    "scrolled": true
   },
   "outputs": [
    {
     "name": "stderr",
     "output_type": "stream",
     "text": [
      "\n",
      "\n",
      "====== WebDriver manager ======\n",
      "Current google-chrome version is 91.0.4472\n",
      "Get LATEST driver version for 91.0.4472\n",
      "Driver [/Users/stevenzych/.wdm/drivers/chromedriver/mac64/91.0.4472.19/chromedriver] found in cache\n"
     ]
    }
   ],
   "source": [
    "#Scrape to find Mars hemispheres with image link and title\n",
    "url = \"https://astrogeology.usgs.gov/search/results?q=hemisphere+enhanced&k1=target&v1=Mars\"\n",
    "executable_path = {'executable_path': ChromeDriverManager().install()}\n",
    "browser = Browser('chrome', **executable_path, headless=False)\n",
    "browser.visit(url)"
   ]
  },
  {
   "cell_type": "code",
   "execution_count": 23,
   "metadata": {},
   "outputs": [],
   "source": [
    "hemisphere_img_title = []\n",
    "\n",
    "links = browser.find_by_css(\"a.product-item h3\")\n",
    "\n",
    "for l in range(len(links)):\n",
    "    hemisphere = {}\n",
    "    \n",
    "    browser.find_by_css(\"a.product-item h3\")[l].click()\n",
    "   \n",
    "    imgLink = browser.links.find_by_text('Sample').first\n",
    "    hemisphere['img_url'] = imgLink['href']\n",
    "    \n",
    "    hemisphere['title'] = browser.find_by_css(\"h2.title\").text\n",
    "    \n",
    "    hemisphere_img_title.append(hemisphere)\n",
    "    \n",
    "    browser.back()"
   ]
  },
  {
   "cell_type": "code",
   "execution_count": 24,
   "metadata": {},
   "outputs": [
    {
     "data": {
      "text/plain": [
       "[{'img_url': 'https://astropedia.astrogeology.usgs.gov/download/Mars/Viking/cerberus_enhanced.tif/full.jpg',\n",
       "  'title': 'Cerberus Hemisphere Enhanced'},\n",
       " {'img_url': 'https://astropedia.astrogeology.usgs.gov/download/Mars/Viking/schiaparelli_enhanced.tif/full.jpg',\n",
       "  'title': 'Schiaparelli Hemisphere Enhanced'},\n",
       " {'img_url': 'https://astropedia.astrogeology.usgs.gov/download/Mars/Viking/syrtis_major_enhanced.tif/full.jpg',\n",
       "  'title': 'Syrtis Major Hemisphere Enhanced'},\n",
       " {'img_url': 'https://astropedia.astrogeology.usgs.gov/download/Mars/Viking/valles_marineris_enhanced.tif/full.jpg',\n",
       "  'title': 'Valles Marineris Hemisphere Enhanced'}]"
      ]
     },
     "execution_count": 24,
     "metadata": {},
     "output_type": "execute_result"
    }
   ],
   "source": [
    "hemisphere_img_title"
   ]
  },
  {
   "cell_type": "code",
   "execution_count": 25,
   "metadata": {},
   "outputs": [],
   "source": [
    "browser.quit()"
   ]
  },
  {
   "cell_type": "code",
   "execution_count": null,
   "metadata": {},
   "outputs": [],
   "source": []
  }
 ],
 "metadata": {
  "kernelspec": {
   "display_name": "Python 3",
   "language": "python",
   "name": "python3"
  },
  "language_info": {
   "codemirror_mode": {
    "name": "ipython",
    "version": 3
   },
   "file_extension": ".py",
   "mimetype": "text/x-python",
   "name": "python",
   "nbconvert_exporter": "python",
   "pygments_lexer": "ipython3",
   "version": "3.6.10"
  }
 },
 "nbformat": 4,
 "nbformat_minor": 4
}

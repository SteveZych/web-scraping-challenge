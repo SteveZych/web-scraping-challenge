{
 "cells": [
  {
   "cell_type": "code",
   "execution_count": 1,
   "metadata": {},
   "outputs": [],
   "source": [
    "from splinter import Browser\n",
    "from bs4 import BeautifulSoup as bs\n",
    "import time\n",
    "from webdriver_manager.chrome import ChromeDriverManager\n",
    "import requests\n",
    "import pymongo"
   ]
  },
  {
   "cell_type": "code",
   "execution_count": null,
   "metadata": {},
   "outputs": [],
   "source": []
  },
  {
   "cell_type": "code",
   "execution_count": 2,
   "metadata": {},
   "outputs": [],
   "source": [
    "# Initialize PyMongo\n",
    "conn = 'mongodb://localhost:27017'\n",
    "client = pymongo.MongoClient(conn)"
   ]
  },
  {
   "cell_type": "code",
   "execution_count": 3,
   "metadata": {},
   "outputs": [],
   "source": [
    "# Define database and collection\n",
    "db = client.mars_db\n",
    "collection = db.items"
   ]
  },
  {
   "cell_type": "code",
   "execution_count": 4,
   "metadata": {},
   "outputs": [],
   "source": [
    "url = \"https://mars.nasa.gov/news/?page=0&per_page=40&order=publish_date+desc%2Ccreated_at+desc&search=&category=19%2C165%2C184%2C204&blank_scope=Latest\""
   ]
  },
  {
   "cell_type": "code",
   "execution_count": 5,
   "metadata": {},
   "outputs": [
    {
     "name": "stderr",
     "output_type": "stream",
     "text": [
      "\n",
      "\n",
      "====== WebDriver manager ======\n",
      "Current google-chrome version is 90.0.4430\n",
      "Get LATEST driver version for 90.0.4430\n",
      "Driver [/Users/stevenzych/.wdm/drivers/chromedriver/mac64/90.0.4430.24/chromedriver] found in cache\n"
     ]
    }
   ],
   "source": [
    "# Set up splinter\n",
    "executable_path = {'executable_path': ChromeDriverManager().install()}\n",
    "browser = Browser('chrome', **executable_path, headless=False)"
   ]
  },
  {
   "cell_type": "code",
   "execution_count": 6,
   "metadata": {},
   "outputs": [
    {
     "name": "stdout",
     "output_type": "stream",
     "text": [
      "NASA's Curiosity Rover Captures Shining Clouds on Mars\n",
      "The science team is studying the clouds, which arrived earlier and formed higher than expected, to learn more about the Red Planet. \n",
      "Life Goals: NASA Software Unlocks Martian Rover Productivity\n",
      "Productivity pundits know lots of tricks to make the most of your day, so you can schedule enough time for important tasks while guarding against overload.\n",
      "Salts Could Be Important Piece of Martian Organic Puzzle\n",
      "A NASA team has found that organic, or carbon-containing, salts are likely present on Mars, with implications for the Red Planet's past habitability.\n",
      "Seeing NASA's Ingenuity Mars Helicopter Fly in 3D\n",
      "A new video of the helicopter’s third flight gives viewers the sensation of standing on the Red Planet and seeing the action firsthand.\n",
      "Perseverance's Robotic Arm Starts Conducting Science\n",
      "NASA’s newest Mars rover is beginning to study the floor of an ancient crater that once held a lake.\n",
      "NASA's Ingenuity Mars Helicopter Completes First One-Way Trip  \n",
      "The Red Planet rotorcraft headed south in support of furthering research into the potential use of aerial scouts on Mars in the future.\n",
      "NASA's Perseverance Captures Video, Audio of Fourth Ingenuity Flight\n",
      "Sounds of the Mars Helicopter’s whirring rotors add another new dimension to the historic project.\n",
      "NASA's Ingenuity Helicopter to Begin New Demonstration Phase\n",
      "The Red Planet rotorcraft will shift focus from proving flight is possible on Mars to demonstrating flight operations that future aerial craft could utilize.\n",
      "NASA Sets Briefing to Discuss Ingenuity Mars Helicopter Next Steps\n",
      "With three successful flights in the logbook, Ingenuity has demonstrated it is ready for more.\n",
      "\n",
      "\n",
      "With Goals Met, NASA to Push Envelope With Ingenuity Mars Helicopter\n",
      "With three successful flights in the logbook, Ingenuity has demonstrated it is ready for more.\n",
      "NASA's Ingenuity Mars Helicopter Flies Faster, Farther on Third Flight\n",
      "The craft’s April 25 flight was conducted at speeds and distances beyond what had ever been previously demonstrated, even in testing on Earth.\n",
      "NASA's Ingenuity Mars Helicopter Logs Second Successful Flight\n",
      "The small rotorcraft’s horizons were expanded on its second flight. \n",
      "NASA's Perseverance Mars Rover Extracts First Oxygen From Red Planet\n",
      "The milestone, which the MOXIE instrument achieved by converting carbon dioxide into oxygen, points the way to future human exploration of the Red Planet. \n",
      "NASA's Ingenuity Mars Helicopter Succeeds in Historic First Flight\n",
      "The small rotorcraft made history, hovering above Jezero Crater, demonstrating that powered, controlled flight on another planet is possible.\n",
      "NASA to Attempt First Controlled Flight on Mars As Soon As Monday\n",
      "A livestream will begin at 3:15 a.m. PDT that morning as the helicopter team prepares to receive the data downlink at NASA’s Jet Propulsion Laboratory.\n",
      "NASA's Mars Helicopter to Make First Flight Attempt\n",
      "The small rotorcraft’s “Wright brothers moment” is two Mars days away.\n",
      "Webinars--Taking Flight: How Girls Can Grow up to Be Engineers \n",
      "Do you like solving problems, working with other people, and making a difference? Consider a career in engineering!\n",
      "Say Cheese on Mars: Perseverance's Selfie With Ingenuity\n",
      "NASA’s newest Mars rover used a camera on the end of its robotic arm to snap this shot of itself with the Ingenuity helicopter nearby.\n",
      "NASA's Odyssey Orbiter Marks 20 Historic Years of Mapping Mars \n",
      "For two decades, the longest-lived spacecraft at the Red Planet has helped locate water ice, assess landing sites, and study the planet’s mysterious moons.\n",
      "\n",
      "NASA Invites Public to Take Flight With Ingenuity Mars Helicopter \n",
      "The helicopter is scheduled to lift off close to the end of the day on April 11.\n",
      "NASA's First Weather Report From Jezero Crater on Mars\n",
      "Perseverance’s MEDA will help us understand how to prepare astronauts for a future on the Red Planet.\n",
      "NASA's Curiosity Team Names Martian Hill That Serves as Mission ‘Gateway'\n",
      "The name honors recently deceased mission scientist Rafael Navarro-González, who helped lead the team that identified ancient organic compounds on Mars\n",
      "NASA's Mars Helicopter Survives First Cold Martian Night on Its Own\n",
      "NASA’s Ingenuity helicopter can be seen on Mars as viewed by the Perseverance rover’s rear Hazard Camera on April 4, 2021, the 44th Martian day, or sol of the mission.\n",
      "NASA's InSight Detects Two Sizable Quakes on Mars\n",
      "The magnitude 3.3 and 3.1 temblors originated in a region called Cerberus Fossae, further supporting the idea that this location is seismically active.\n",
      "Sensors Collect Crucial Data on Mars Landings With Arrival of Perseverance \n",
      "MEDLI2 was one of the crucial technologies onboard the rover’s protective aeroshell that helped document the entry, descent, and landing of the spacecraft. \n",
      "NASA's Curiosity Mars Rover Takes Selfie With 'Mont Mercou'\n",
      "The rover also snapped a pair of panoramas to create a 3D view of the stark cliff face featured in the selfie.\n",
      "NASA Ingenuity Mars Helicopter Prepares for First Flight\n",
      "Now uncocooned from its protective carbon-fiber shield, the helicopter is being readied for its next steps.  \n",
      "Another First: Perseverance Captures the Sounds of Driving on Mars\n",
      "NASA’s newest rover recorded audio of itself crunching over the surface of the Red Planet, adding a whole new dimension to Mars exploration.\n",
      "NASA to Host Briefing to Preview First Mars Helicopter Flights\n",
      "Members of the projects will lay out the steps necessary before the helicopter attempts its historic test flights. \n",
      "New Study Challenges Long-Held Theory of Fate of Mars' Water\n",
      "The new science results indicate that a large quantity of the Red Planet’s water is trapped in its crust rather than having escaped into space.\n",
      "NASA's Perseverance Mars Rover Mission Honors Navajo Language\n",
      "Working with the Navajo Nation, the rover team has named features on Mars with words from the Navajo language.\n",
      "Perseverance Rover's SuperCam Science Instrument Delivers First Results\n",
      "Data from the powerful science tool includes sounds of its laser zapping a rock in order to test what it’s made of.\n",
      "NASA's Perseverance Drives on Mars' Terrain for First Time\n",
      "The first trek of the agency’s largest, most advanced rover yet on the Red Planet marks a major milestone before science operations get under way.\n",
      "Media Telecon Materials - March 5, 2021\n",
      "Mission team members are participating in a virtual teleconference to discuss milestones achieved so far since the Feb. 18 landing and those to come.\n",
      "NASA Awards Mars Ascent Propulsion System Contract for Sample Return\n",
      "The award moves NASA and ESA a step closer to realizing Mars Sample Return, an ambitious planetary exploration program that will build upon decades of science, knowledge, and experience.\n",
      "NASA to Provide Update on Perseverance ‘Firsts' Since Mars Landing \n",
      "Mission team members are participating in a virtual teleconference to discuss milestones achieved so far since the Feb. 18 landing and those to come.\n",
      "Testing Proves Its Worth With Successful Mars Parachute Deployment\n",
      "The giant canopy that helped land Perseverance on Mars was tested here on Earth at NASA’s Wallops Flight Facility in Virginia.\n",
      "NASA's Perseverance Rover Gives High-Definition Panoramic View of Landing Site\n",
      "A 360-degree panorama taken by the rover’s Mastcam-Z instrument will be discussed during a public video chat this Thursday.\n",
      "Nearly 11 Million Names of Earthlings are on Mars Perseverance\n",
      "When the Perseverance rover safely touched down on the Martian surface, inside Jezero Crater, on Feb. 18, 2021, it was also a safe landing for the nearly 11 million names on board.\n",
      "NASA's Mars Perseverance Rover Provides Front-Row Seat to Landing, First Audio Recording of Red Planet \n",
      "The agency’s newest rover captured first-of-its kind footage of its Feb. 18 touchdown and has recorded audio of Martian wind.\n",
      "\n",
      "\n"
     ]
    }
   ],
   "source": [
    "# Uses splinter to interact with the html page\n",
    "browser.visit(url)\n",
    "# Instead of requests we can use splinter to grab the html once the browser is ran\n",
    "html = browser.html\n",
    "soup = bs(html, 'html.parser')\n",
    "\n",
    "newsContent = soup.find_all('div', class_='list_text')\n",
    "\n",
    "for news in newsContent:\n",
    "    newsTitle = news.find('div', class_='content_title').text\n",
    "    newsParagraph = news.find('div', class_='article_teaser_body').text\n",
    "    \n",
    "    print(newsTitle)\n",
    "    print(newsParagraph)\n",
    "# Then use beautifulsoup to parse through the html\n",
    "# Must use browser.quit()"
   ]
  },
  {
   "cell_type": "code",
   "execution_count": 7,
   "metadata": {},
   "outputs": [],
   "source": [
    "browser.quit()"
   ]
  },
  {
   "cell_type": "code",
   "execution_count": null,
   "metadata": {},
   "outputs": [],
   "source": []
  },
  {
   "cell_type": "code",
   "execution_count": null,
   "metadata": {},
   "outputs": [],
   "source": []
  },
  {
   "cell_type": "code",
   "execution_count": null,
   "metadata": {},
   "outputs": [],
   "source": []
  },
  {
   "cell_type": "code",
   "execution_count": null,
   "metadata": {},
   "outputs": [],
   "source": []
  },
  {
   "cell_type": "code",
   "execution_count": null,
   "metadata": {},
   "outputs": [],
   "source": []
  },
  {
   "cell_type": "code",
   "execution_count": null,
   "metadata": {},
   "outputs": [],
   "source": []
  },
  {
   "cell_type": "code",
   "execution_count": null,
   "metadata": {},
   "outputs": [],
   "source": []
  },
  {
   "cell_type": "code",
   "execution_count": null,
   "metadata": {},
   "outputs": [],
   "source": []
  }
 ],
 "metadata": {
  "kernelspec": {
   "display_name": "Python 3",
   "language": "python",
   "name": "python3"
  },
  "language_info": {
   "codemirror_mode": {
    "name": "ipython",
    "version": 3
   },
   "file_extension": ".py",
   "mimetype": "text/x-python",
   "name": "python",
   "nbconvert_exporter": "python",
   "pygments_lexer": "ipython3",
   "version": "3.6.10"
  }
 },
 "nbformat": 4,
 "nbformat_minor": 4
}
